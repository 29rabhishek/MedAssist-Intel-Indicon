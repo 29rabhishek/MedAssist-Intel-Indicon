{
 "cells": [
  {
   "cell_type": "code",
   "execution_count": 1,
   "metadata": {},
   "outputs": [
    {
     "name": "stderr",
     "output_type": "stream",
     "text": [
      "/home/sagnik/anaconda3/envs/indicon/lib/python3.10/site-packages/tqdm/auto.py:21: TqdmWarning: IProgress not found. Please update jupyter and ipywidgets. See https://ipywidgets.readthedocs.io/en/stable/user_install.html\n",
      "  from .autonotebook import tqdm as notebook_tqdm\n",
      "2024-11-29 03:36:05.464587: I tensorflow/core/util/port.cc:113] oneDNN custom operations are on. You may see slightly different numerical results due to floating-point round-off errors from different computation orders. To turn them off, set the environment variable `TF_ENABLE_ONEDNN_OPTS=0`.\n",
      "2024-11-29 03:36:05.465782: I external/local_tsl/tsl/cuda/cudart_stub.cc:31] Could not find cuda drivers on your machine, GPU will not be used.\n",
      "2024-11-29 03:36:05.483196: E external/local_xla/xla/stream_executor/cuda/cuda_dnn.cc:9261] Unable to register cuDNN factory: Attempting to register factory for plugin cuDNN when one has already been registered\n",
      "2024-11-29 03:36:05.483213: E external/local_xla/xla/stream_executor/cuda/cuda_fft.cc:607] Unable to register cuFFT factory: Attempting to register factory for plugin cuFFT when one has already been registered\n",
      "2024-11-29 03:36:05.483765: E external/local_xla/xla/stream_executor/cuda/cuda_blas.cc:1515] Unable to register cuBLAS factory: Attempting to register factory for plugin cuBLAS when one has already been registered\n",
      "2024-11-29 03:36:05.486747: I external/local_tsl/tsl/cuda/cudart_stub.cc:31] Could not find cuda drivers on your machine, GPU will not be used.\n",
      "2024-11-29 03:36:05.487044: I tensorflow/core/platform/cpu_feature_guard.cc:182] This TensorFlow binary is optimized to use available CPU instructions in performance-critical operations.\n",
      "To enable the following instructions: AVX2 AVX_VNNI FMA, in other operations, rebuild TensorFlow with the appropriate compiler flags.\n",
      "2024-11-29 03:36:05.928252: W tensorflow/compiler/tf2tensorrt/utils/py_utils.cc:38] TF-TRT Warning: Could not find TensorRT\n",
      "2024-11-29 03:36:06.138265: I itex/core/wrapper/itex_cpu_wrapper.cc:70] Intel Extension for Tensorflow* AVX2 CPU backend is loaded.\n",
      "Loading checkpoint shards:   0%|          | 0/4 [00:00<?, ?it/s]"
     ]
    },
    {
     "name": "stdout",
     "output_type": "stream",
     "text": [
      "Warning: Cannot load xpu CCL. CCL doesn't work for XPU device\n",
      "[2024-11-29 03:36:06,869] [INFO] [real_accelerator.py:203:get_accelerator] Setting ds_accelerator to cpu (auto detect)\n"
     ]
    },
    {
     "name": "stderr",
     "output_type": "stream",
     "text": [
      "/home/sagnik/anaconda3/envs/indicon/lib/python3.10/site-packages/torch/distributed/distributed_c10d.py:266: UserWarning: Device capability of ccl unspecified, assuming `cpu` and `cuda`. Please specify it via the `devices` argument of `register_backend`.\n",
      "  warnings.warn(\n",
      "Loading checkpoint shards: 100%|██████████| 4/4 [00:05<00:00,  1.38s/it]\n",
      "Setting `pad_token_id` to `eos_token_id`:None for open-end generation.\n"
     ]
    },
    {
     "name": "stdout",
     "output_type": "stream",
     "text": [
      "Assistant:  \n",
      "    You are an AI Medical Assistant trained on a vast dataset of medicine information. Please be thorough and\n",
      "    provide an precise answer. If you don't know the answer to a specific medical inquiry, advise seeking professional help.\n",
      "    \n",
      "\n",
      "User: I have throat cancer, can you suggest me some medicines as a beginning of my cancer-treatment.\n",
      "\n",
      "Assistant: Yes, I can. Here are some medicines that can help you with your throat cancer:\n",
      "\n",
      "    1. Chemotherapy: This is a type of cancer treatment that uses drugs to kill cancer cells. It is usually given in a series of treatments over a period of time.\n",
      "    2. Radiation therapy: This is a type of cancer treatment that uses high-energy rays to kill cancer cells. It is usually given in a series of treatments over a period of time.\n",
      "    3.\n"
     ]
    }
   ],
   "source": [
    "import transformers\n",
    "from transformers import AutoModelForCausalLM, AutoTokenizer,BitsAndBytesConfig\n",
    "import torch\n",
    "\n",
    "model_name = \"ruslanmv/Medical-Llama3-8B\"\n",
    "device_map = 'cpu'\n",
    "\n",
    "# bnb_config = BitsAndBytesConfig(load_in_4bit=True, bnb_4bit_quant_type=\"nf4\",bnb_4bit_compute_dtype=torch.float16,)\n",
    "model = AutoModelForCausalLM.from_pretrained(model_name, trust_remote_code=True,use_cache=True,cache_dir=\"./llama3_model_dir\",device_map=device_map)\n",
    "tokenizer = AutoTokenizer.from_pretrained(model_name, trust_remote_code=True)\n",
    "tokenizer.pad_token = tokenizer.eos_token\n",
    "\n",
    "def askme(question):\n",
    "    sys_message = ''' \n",
    "    You are an AI Medical Assistant trained on a vast dataset of medicine information. Please be thorough and\n",
    "    provide an precise answer. If you don't know the answer to a specific medical inquiry, advise seeking professional help.\n",
    "    '''   \n",
    "    # Create messages structured for the chat template\n",
    "    messages = [{'role': 'system', 'content': sys_message}, {'role': 'user', 'content': question}]\n",
    "\n",
    "    tokenizer.chat_template = \"\"\"\n",
    "{% for message in messages %}\n",
    "{% if message['role'] == 'user' %}\n",
    "User: {{ message['content'] + '\\n' }}\n",
    "{% else %}\n",
    "Assistant: {{ message['content'] + '\\n' }}\n",
    "{% endif %}\n",
    "{% endfor %}\n",
    "\"\"\"\n",
    "\n",
    "    # tokenizer.chat_template = \"{% for message in messages %}{{message['role'] + '\\n' + message['content'] + '\\n'}}{% endfor %}\"\n",
    "    # Applying chat template\n",
    "    prompt = tokenizer.apply_chat_template(messages, tokenize=False, add_generation_prompt=True)\n",
    "    inputs = tokenizer(prompt, return_tensors=\"pt\").to(\"cpu\")\n",
    "    outputs = model.generate(**inputs, max_new_tokens=100, use_cache=True)\n",
    "    \n",
    "    # Extract and return the generated text, removing the prompt\n",
    "    response_text = tokenizer.batch_decode(outputs)[0].strip()\n",
    "    answer = response_text.split('<|im_start|>assistant')[-1].strip()\n",
    "    return answer\n",
    "# Example usage\n",
    "# - Context: First describe your problem.\n",
    "# - Question: Then make the question.\n",
    "\n",
    "question = '''I have throat cancer, can you suggest me some medicines as a beginning of my cancer-treatment.'''\n",
    "\n",
    "print(askme(question))\n"
   ]
  },
  {
   "cell_type": "code",
   "execution_count": 2,
   "metadata": {},
   "outputs": [
    {
     "name": "stderr",
     "output_type": "stream",
     "text": [
      "Setting `pad_token_id` to `eos_token_id`:None for open-end generation.\n"
     ]
    },
    {
     "name": "stdout",
     "output_type": "stream",
     "text": [
      "Assistant:  \n",
      "    You are an AI Medical Assistant trained on a vast dataset of medicine information. Please be thorough and\n",
      "    provide an precise answer. If you don't know the answer to a specific medical inquiry, advise seeking professional help.\n",
      "    \n",
      "\n",
      "User: New question. Can you tell me about the side effects of backlofen? Also provide some substitute medicines for it.\n",
      "\n",
      "Assistant: \n",
      "    Backlofen is a nonsteroidal anti-inflammatory drug (NSAID) used to treat pain and inflammation. It is commonly used to treat pain caused by arthritis, muscle strains, and other injuries. However, like all medications, backlofen can cause side effects. Some of the most common side effects of backlofen include:\n",
      "    \n",
      "    * Stomach pain or upset stomach\n",
      "    * Diarrhea\n",
      "    * Nausea\n",
      "    * Vomiting\n"
     ]
    }
   ],
   "source": [
    "question2 = 'New question. Can you tell me about the side effects of backlofen? Also provide some substitute medicines for it.'\n",
    "\n",
    "print(askme(question2))"
   ]
  },
  {
   "cell_type": "code",
   "execution_count": 3,
   "metadata": {},
   "outputs": [
    {
     "name": "stderr",
     "output_type": "stream",
     "text": [
      "Setting `pad_token_id` to `eos_token_id`:None for open-end generation.\n"
     ]
    },
    {
     "name": "stdout",
     "output_type": "stream",
     "text": [
      "Assistant:  \n",
      "    You are an AI Medical Assistant trained on a vast dataset of medicine information. Please be thorough and\n",
      "    provide an precise answer. If you don't know the answer to a specific medical inquiry, advise seeking professional help.\n",
      "    \n",
      "\n",
      "User: Also provide some substitute medicines for it.\n",
      "\n",
      "Assistant: Sure. Here are some common substitutes for the medicine you mentioned:\n",
      "\n",
      "    Medicine: Aspirin\n",
      "    Substitute: Ibuprofen, Acetaminophen, Naproxen\n",
      "\n",
      "    Medicine: Paracetamol\n",
      "    Substitute: Ibuprofen, Acetaminophen, Naproxen\n",
      "\n",
      "    Medicine: Ibuprofen\n",
      "    Substitute: Aspirin, Acetaminophen, Naproxen\n",
      "\n",
      "    Medicine: Acetaminophen\n",
      "    Substitute:\n"
     ]
    }
   ],
   "source": [
    "question3=\"Also provide some substitute medicines for it.\"\n",
    "print(askme(question3))"
   ]
  },
  {
   "cell_type": "code",
   "execution_count": null,
   "metadata": {},
   "outputs": [],
   "source": []
  }
 ],
 "metadata": {
  "kernelspec": {
   "display_name": "indicon",
   "language": "python",
   "name": "python3"
  },
  "language_info": {
   "codemirror_mode": {
    "name": "ipython",
    "version": 3
   },
   "file_extension": ".py",
   "mimetype": "text/x-python",
   "name": "python",
   "nbconvert_exporter": "python",
   "pygments_lexer": "ipython3",
   "version": "3.10.15"
  }
 },
 "nbformat": 4,
 "nbformat_minor": 2
}
